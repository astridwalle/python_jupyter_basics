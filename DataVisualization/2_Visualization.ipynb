{
 "cells": [
  {
   "cell_type": "markdown",
   "metadata": {
    "collapsed": true
   },
   "source": [
    "# Visualisation of BubbleColumn testing data and Covid19 data\n",
    "\n",
    "Now we will look a bit deeper into different visualisation options.\n",
    "\n",
    "Again we will start by reading in the files with read_excel and read_csv.\n",
    "\n",
    "## Our data for plotting:\n",
    "1. Bubble column test data (combined data from 3 testruns)\n",
    "2. RKI Covid19 data"
   ]
  },
  {
   "cell_type": "code",
   "execution_count": null,
   "metadata": {
    "ExecuteTime": {
     "end_time": "2019-10-16T10:03:28.577240Z",
     "start_time": "2019-10-16T10:03:27.996431Z"
    }
   },
   "outputs": [],
   "source": [
    "import pandas as pd"
   ]
  },
  {
   "cell_type": "markdown",
   "metadata": {},
   "source": [
    "### Read bubblecolumn excel files and combine into one pandas dataframe"
   ]
  },
  {
   "cell_type": "code",
   "execution_count": null,
   "metadata": {
    "ExecuteTime": {
     "end_time": "2019-10-16T10:03:42.527542Z",
     "start_time": "2019-10-16T10:03:40.683455Z"
    }
   },
   "outputs": [],
   "source": [
    "df_bub1 = pd.read_excel(\"../Data/BubbleColumn/Test_01.xlsx\",header=[0,1])\n",
    "df_bub2 = pd.read_excel(\"../Data/BubbleColumn/Test_02.xlsx\",header=[0,1])\n",
    "df_bub3 = pd.read_excel(\"../Data/BubbleColumn/Test_03.xlsx\",header=[0,1])"
   ]
  },
  {
   "cell_type": "code",
   "execution_count": null,
   "metadata": {
    "scrolled": true
   },
   "outputs": [],
   "source": [
    "df_bub=pd.concat([df_bub1,df_bub2,df_bub2],keys=[\"Test1\",\"Test2\",\"Test3\"],axis=0,names=[\"Param\",\"Row_Index\"],ignore_index=False)\n",
    "df_bub"
   ]
  },
  {
   "cell_type": "code",
   "execution_count": null,
   "metadata": {},
   "outputs": [],
   "source": [
    "df_bub.index.get_level_values(level=0)"
   ]
  },
  {
   "cell_type": "code",
   "execution_count": null,
   "metadata": {},
   "outputs": [],
   "source": [
    "# We convert the Param multiindex into an additional column (easier for filtering)\n",
    "df_bub.reset_index(level=0,inplace=True)\n",
    "df_bub"
   ]
  },
  {
   "cell_type": "markdown",
   "metadata": {},
   "source": [
    "Now we do some data exploration to check for non-numerical or missing values and to check whether the data is as we expect it."
   ]
  },
  {
   "cell_type": "code",
   "execution_count": null,
   "metadata": {},
   "outputs": [],
   "source": [
    "df_bub.describe()"
   ]
  },
  {
   "cell_type": "code",
   "execution_count": null,
   "metadata": {},
   "outputs": [],
   "source": [
    "# Let's check the multiindex column names\n",
    "df_bub.columns.values"
   ]
  },
  {
   "cell_type": "code",
   "execution_count": null,
   "metadata": {},
   "outputs": [],
   "source": []
  },
  {
   "cell_type": "markdown",
   "metadata": {},
   "source": [
    "### We also read in RKI Covid19 data as an example for timeseries and categorical data"
   ]
  },
  {
   "cell_type": "code",
   "execution_count": null,
   "metadata": {},
   "outputs": [],
   "source": [
    "df_rki=pd.read_csv(\"https://www.arcgis.com/sharing/rest/content/items/f10774f1c63e40168479a1feb6c7ca74/data\")\n",
    "df_rki"
   ]
  },
  {
   "cell_type": "code",
   "execution_count": null,
   "metadata": {},
   "outputs": [],
   "source": [
    "# Some preprocessing of RKI data to get official results:\n",
    "# Is the data up to date?\n",
    "print(df_rki[\"Datenstand\"].unique())\n",
    "df_rki_temp = df_rki[((df_rki[\"NeuerFall\"]==0) | (df_rki[\"NeuerFall\"]==1))]"
   ]
  },
  {
   "cell_type": "code",
   "execution_count": null,
   "metadata": {},
   "outputs": [],
   "source": []
  },
  {
   "cell_type": "markdown",
   "metadata": {},
   "source": [
    "## Some general tips:\n",
    "Always very useful:\n",
    "- Data Dictionary: Metadata for your column names. Explanations, units, etc\n",
    "- Data Catalogue: Catalogue for with metadata and storage paths for your testing data."
   ]
  },
  {
   "cell_type": "markdown",
   "metadata": {},
   "source": [
    "## Overview of python visualisation packages \n",
    "\n",
    "- matplotlib\n",
    "\n",
    "    Widely used visualisation library. Easy to use and has a good online community presence.\n",
    "\n",
    "\n",
    "- pandas built-in plotting library\n",
    "    \n",
    "    Single line command to plot the dataframe. Easier to plot scatterplotmatrix using this library compared to matplotlib and bokeh. \n",
    "\n",
    "\n",
    "- bokeh\n",
    "\n",
    "    Visualisations are more appealing and has built in plot configuration tools (zoom in, pan, etc). But takes time to load the visualisation and it is more suited for creating dashboard. Moreover, the documentation is not clear\n",
    "    \n",
    "- seaborn\n",
    "\n",
    "    Plotting based on matplotlib, but with lots of nice preformatting. Optimized for statistical, dataframe plotting\n",
    "\n",
    "- plotly\n",
    "\n",
    "    Can do contourplots and 3D plots\n",
    "\n",
    "- altair / Vega-Lite\n",
    "\n",
    "    Statistical visualization library, preformatted. Minimum amount of code required for nice plotting results\n",
    "    \n",
    "### Keep in mind:\n",
    "\n",
    "- Check the documentation of the module by using help() function or the ? in front of the function call!\n",
    "- Questions, Problems? --> Google! --> One of the best sources is stackoverflow\n",
    "- Module features are dependent on the module version! Check your version:\n",
    "```\n",
    "import matplotlib\n",
    "matplotlib.__version__\n",
    "```\n"
   ]
  },
  {
   "cell_type": "code",
   "execution_count": null,
   "metadata": {},
   "outputs": [],
   "source": [
    "# import neessary libraries:\n",
    "import matplotlib.pyplot as plt\n",
    "import bokeh.plotting as bp # another plotting option \n",
    "from bokeh.plotting import figure,output_notebook,show # for plotting\n",
    "import seaborn as sb # yeat another plotting option\n",
    "import plotly.express as px\n",
    "import altair as alt\n",
    "\n",
    "# interactive widgets\n",
    "import ipywidgets as widgets # interactive notebooks - make selection etc\n",
    "from IPython.display import display # to display the widgets in notebook\n",
    "\n",
    "# some more useful stuff:\n",
    "import os\n",
    "import datetime "
   ]
  },
  {
   "cell_type": "markdown",
   "metadata": {},
   "source": [
    "## Plot histograms\n",
    "In order to understand the typical distributions of values, you can always start with a histogram\n",
    "\n",
    "We start with our BubbleColumn testing data\n",
    "\n",
    "We wil compare the histogram plots from matplotlib library and pandas built-in"
   ]
  },
  {
   "cell_type": "code",
   "execution_count": null,
   "metadata": {},
   "outputs": [],
   "source": [
    "# 1. df_test - matplotlib\n",
    "\n",
    "plt.figure(figsize=(15,5))\n",
    "plt.hist(df_bub['cam0', 'Max Feret Diameter'].dropna(),bins=25, color='green',alpha=0.7) # Remember to dropna!\n",
    "plt.xlabel('Max Feret Diameter')\n",
    "plt.title('Max Feret Diameter')\n",
    "plt.show()\n",
    "\n",
    "# 2. df_test - matplotlib: Also applying some filtering  to zoom into a smaller range \n",
    "\n",
    "plt.figure(figsize=(15,5))\n",
    "plt.hist(df_bub[((df_bub['cam0', 'Max Feret Diameter']>1.2) & (df_bub['cam0', 'Max Feret Diameter']<6.0))]['cam0', 'Max Feret Diameter'].dropna(),bins=25, color='grey',alpha=0.7) # Remember to dropna!\n",
    "plt.xlabel('Max Feret Diameter')\n",
    "plt.title('Max Feret Diameter')\n",
    "plt.show()"
   ]
  },
  {
   "cell_type": "code",
   "execution_count": null,
   "metadata": {},
   "outputs": [],
   "source": [
    "# 2. df_test - pandas built-in \n",
    "df_bub.plot(y=(\"cam0\",'Max Feret Diameter'),kind=\"hist\",bins=25,color=\"green\",alpha=0.7,figsize=(15,5),title='Max Feret Diameter')"
   ]
  },
  {
   "cell_type": "markdown",
   "metadata": {},
   "source": [
    "## How can histograms be extremely valuable? \n",
    "With the help of histograms you can already get an idea about outliers:\n",
    "\n",
    "If you have the data from multiple tests and you want to know how one specific test compares to the overall amount of tests."
   ]
  },
  {
   "cell_type": "code",
   "execution_count": null,
   "metadata": {},
   "outputs": [],
   "source": [
    "help(plt.hist)"
   ]
  },
  {
   "cell_type": "code",
   "execution_count": null,
   "metadata": {
    "scrolled": true
   },
   "outputs": [],
   "source": [
    "# Plot 2 overlaying histograms for comparison. \n",
    "# To be able to do so, we also need to add the density keyword! Otherwise the bins of the one test will be much much smaller.\n",
    "plt.figure(figsize=(15,5))\n",
    "plt.hist(df_bub['cam0', 'Max Feret Diameter'].dropna(),bins=20,density=True, color='blue',label=\"All tests\")\n",
    "plt.hist(df_bub[df_bub[\"Param\"]==\"Test1\"]['cam0', 'Max Feret Diameter'].dropna(),bins=20, density=True,color='orange',alpha= 0.35, label=\"Test 1\")\n",
    "plt.xlabel('Max Feret Diameter')\n",
    "plt.title('Comparison of one test with the overall amount of test')\n",
    "plt.legend()\n",
    "plt.show()"
   ]
  },
  {
   "cell_type": "markdown",
   "metadata": {},
   "source": [
    "## Some simple scatter / line plots\n",
    "### Created in a loop with filtering of a large dataframe\n",
    "\n",
    "1. Example: Bubble testing data\n",
    "2. Example: RKI Covid10 cases for different Landkreise\n",
    "\n",
    "Advantages of a scatter plot over a line plot:\n",
    "Whenever you look at a distribution or a change over time, you are not able to see the intensity / density of the datapoints, if you just do a line plot. To get a feeling for the data, it is always better to start with 'point' as marker instead of 'line'"
   ]
  },
  {
   "cell_type": "code",
   "execution_count": null,
   "metadata": {},
   "outputs": [],
   "source": [
    "df_bub[df_bub[\"Param\"]==\"Test3\"][\"erg\",\"z_bild \"]"
   ]
  },
  {
   "cell_type": "code",
   "execution_count": null,
   "metadata": {},
   "outputs": [],
   "source": [
    "plt.figure(figsize=(15,5))\n",
    "\n",
    "for i in df_bub[\"Param\"].unique():\n",
    "    print(i)\n",
    "    df_temp=df_bub[df_bub[\"Param\"]==i]\n",
    "    x=df_temp[\"erg\",\"Zeit [ms]\"]\n",
    "    y=(df_temp[\"erg\",\"z_bild \"].shift(1)-df_temp[\"erg\",\"z_bild \"])/(df_temp[\"erg\",\"t_Bilder LabV\"].shift(1)-df_temp[\"erg\",\"t_Bilder LabV\"])\n",
    "    plt.scatter(x,y,label=i)\n",
    "    \n",
    "plt.legend()\n",
    "plt.ylim(0,0.5)\n"
   ]
  },
  {
   "cell_type": "markdown",
   "metadata": {},
   "source": [
    "## Interactive selection widgets:\n",
    "Another option to get the plots for different tests interactively:\n",
    "\n",
    "In this minimal example you have to run the plot command every time yoiu have changed the Dropdwon values. But of course you can also add a so-called callback to renew the plot automatically, when a dropdown value changes.\n",
    "check it out: widget.observe"
   ]
  },
  {
   "cell_type": "code",
   "execution_count": null,
   "metadata": {},
   "outputs": [],
   "source": [
    "# At first we create the selection widget for the Testrun\n",
    "Test_selection=widgets.Dropdown(options=df_bub[\"Param\"].unique(), value=\"Test2\", description=\"Select one test\")\n",
    "display(Test_selection)"
   ]
  },
  {
   "cell_type": "code",
   "execution_count": null,
   "metadata": {},
   "outputs": [],
   "source": [
    "# Then we create the selection widget for the 0th level of the multiindex columns:\n",
    "Parameter1_selection=widgets.Dropdown(options=df_bub.columns.get_level_values(level=0).unique(), value=\"cam0\", description=\"Select one parameter\")\n",
    "display(Parameter1_selection)"
   ]
  },
  {
   "cell_type": "code",
   "execution_count": null,
   "metadata": {},
   "outputs": [],
   "source": [
    "# Then we create the selection widget for the 1st level of the multiindex columns:\n",
    "Parameter2_selection=widgets.Dropdown(options=df_bub.loc[:,pd.IndexSlice[[\"cam0\"], :]].columns.get_level_values(1).unique(),\n",
    "                                      description=\"Select one parameter\")\n",
    "display(Parameter2_selection)"
   ]
  },
  {
   "cell_type": "code",
   "execution_count": null,
   "metadata": {},
   "outputs": [],
   "source": [
    "plt.figure(figsize=(15,5))\n",
    "\n",
    "df_temp=df_bub[df_bub[\"Param\"]==Test_selection.value]\n",
    "x=df_temp[\"erg\",\"Zeit [ms]\"]\n",
    "y=df_temp[Parameter1_selection.value,Parameter2_selection.value]\n",
    "plt.scatter(x,y,label=str(Parameter1_selection.value)+\", \"+str(Parameter2_selection.value))\n",
    "    \n",
    "plt.legend()"
   ]
  },
  {
   "cell_type": "markdown",
   "metadata": {},
   "source": [
    "## Now lets have a look at the same plot with different packages\n",
    "### Bokeh --> Interactive plots\n",
    "Try the different menu options you can see at the right side of the plot"
   ]
  },
  {
   "cell_type": "code",
   "execution_count": null,
   "metadata": {},
   "outputs": [],
   "source": [
    "# This commands let you visualise bokeh below the execution cell\n",
    "output_notebook()"
   ]
  },
  {
   "cell_type": "code",
   "execution_count": null,
   "metadata": {},
   "outputs": [],
   "source": [
    "df_temp=df_bub[df_bub[\"Param\"]==Test_selection.value]\n",
    "x=df_temp[\"erg\",\"Zeit [ms]\"]\n",
    "y=df_temp[Parameter1_selection.value,Parameter2_selection.value]\n",
    "\n",
    "# 1. Bokeh\n",
    "p = figure(title=\"Parameter Selection {}, {} for {}\".\n",
    "           format(Parameter1_selection.value,Parameter2_selection.value,Test_selection.value),x_axis_type='datetime',\n",
    "          width=800,height=250)\n",
    "p.circle(x=x,\n",
    "         y=y)\n",
    "show(p)"
   ]
  },
  {
   "cell_type": "markdown",
   "metadata": {},
   "source": [
    "### Seaborn\n",
    "Not interactive, but preformatted for a nice appearance"
   ]
  },
  {
   "cell_type": "code",
   "execution_count": null,
   "metadata": {},
   "outputs": [],
   "source": [
    "df_temp=df_bub[df_bub[\"Param\"]==Test_selection.value]\n",
    "x=df_temp[\"erg\",\"Zeit [ms]\"]\n",
    "y=df_temp[Parameter1_selection.value,Parameter2_selection.value]\n",
    "\n",
    "plt.figure(figsize=(15,5))\n",
    "sb.scatterplot(x,y)"
   ]
  },
  {
   "cell_type": "markdown",
   "metadata": {},
   "source": [
    "### Plotly\n",
    "Interactive plots. Here you can see the single values when hovering over the points.\n",
    "\n",
    "With plotly you can also do 3D plots!"
   ]
  },
  {
   "cell_type": "code",
   "execution_count": null,
   "metadata": {},
   "outputs": [],
   "source": [
    "df_temp=df_bub[df_bub[\"Param\"]==Test_selection.value]\n",
    "x=df_temp[\"erg\",\"Zeit [ms]\"]\n",
    "y=df_temp[Parameter1_selection.value,Parameter2_selection.value]\n",
    "\n",
    "fig = px.scatter(x=x, y=y)\n",
    "fig.show()"
   ]
  },
  {
   "cell_type": "markdown",
   "metadata": {},
   "source": [
    "### And now as well Altair"
   ]
  },
  {
   "cell_type": "code",
   "execution_count": null,
   "metadata": {},
   "outputs": [],
   "source": [
    "# Here we need some additional extensions, so maybe you need to install some additional packages to be able to display the plot.\n",
    "df_temp=df_bub[df_bub[\"Param\"]==Test_selection.value]\n",
    "x=df_temp[\"erg\",\"Zeit [ms]\"]\n",
    "y=df_temp[Parameter1_selection.value,Parameter2_selection.value]\n",
    "\n",
    "chart=alt.Chart(x=x, y=y).interactive()\n",
    "\n",
    "chart.show()"
   ]
  },
  {
   "cell_type": "markdown",
   "metadata": {},
   "source": [
    "## Doing some line plots in a loop\n",
    "Lets look at the Covid19 case numbers for each Landkreis"
   ]
  },
  {
   "cell_type": "code",
   "execution_count": null,
   "metadata": {},
   "outputs": [],
   "source": [
    "# Plotting the casenumbers\n",
    "fig=plt.figure(figsize=(12,10))\n",
    "ax1=fig.add_subplot(111)\n",
    "\n",
    "df_rki_lk=df_rki_temp.groupby([\"Landkreis\",\"Meldedatum\"],as_index=False)[[\"AnzahlFall\"]].sum()\n",
    "for i in df_rki_lk[\"Landkreis\"].unique():\n",
    "    df=df_rki_lk[df_rki_lk[\"Landkreis\"]==i]\n",
    "    df.set_index(\"Meldedatum\", inplace=True, drop=True)\n",
    "    df.index=pd.to_datetime(df.index,format=\"%Y-%m-%d\")\n",
    "    df.sort_index(inplace=True)\n",
    "    ax1.plot(df[\"AnzahlFall\"],color=\"grey\",alpha=0.3)\n",
    "\n",
    "    if \"Berlin\" in i:\n",
    "        df_b=df\n",
    "\n",
    "ax1.plot(df_b[\"AnzahlFall\"],color=\"red\",label=\"Berlin\")\n",
    "plt.yscale(\"log\")\n",
    "plt.title(\"Casenumbers - Reporting Date - for each Landkreis in Germany\")"
   ]
  },
  {
   "cell_type": "code",
   "execution_count": null,
   "metadata": {},
   "outputs": [],
   "source": [
    "df_rki_lk[\"Landkreis\"].unique()"
   ]
  },
  {
   "cell_type": "markdown",
   "metadata": {},
   "source": [
    "### Create mulitple subplots\n",
    "\n",
    "Plot different Landkreise in subplots"
   ]
  },
  {
   "cell_type": "code",
   "execution_count": null,
   "metadata": {},
   "outputs": [],
   "source": [
    "plt.figure(figsize=(15,7))\n",
    "\n",
    "plt.subplot(2,2,1)\n",
    "plt.plot(df_b[\"AnzahlFall\"],'.')\n",
    "plt.plot(df_b[\"AnzahlFall\"],'-', color=\"grey\", alpha=0.5)\n",
    "plt.title(\"Subplot1 - Berlin\")\n",
    "\n",
    "plt.subplot(2,2,2)\n",
    "plt.plot(df_rki_lk[df_rki_lk[\"Landkreis\"]==\"LK Darmstadt-Dieburg\"][\"AnzahlFall\"],'.')\n",
    "plt.plot(df_rki_lk[df_rki_lk[\"Landkreis\"]==\"LK Darmstadt-Dieburg\"][\"AnzahlFall\"],'-', color=\"grey\", alpha=0.5)\n",
    "plt.title(\"Subplot 2 - LK Darmstadt-Dieburg\")\n",
    "\n",
    "plt.subplot(2,2,3)\n",
    "plt.plot(df_rki_lk[df_rki_lk[\"Landkreis\"]==\"LK Friesland\"][\"AnzahlFall\"],'.')\n",
    "plt.plot(df_rki_lk[df_rki_lk[\"Landkreis\"]==\"LK Friesland\"][\"AnzahlFall\"],'-', color=\"grey\", alpha=0.5)\n",
    "plt.title(\"Subplot 3 - LK Friesland\")\n",
    "\n",
    "plt.subplot(2,2,4)\n",
    "plt.plot(df_rki_lk[df_rki_lk[\"Landkreis\"]==\"LK Heinsberg\"][\"AnzahlFall\"],'.')\n",
    "plt.plot(df_rki_lk[df_rki_lk[\"Landkreis\"]==\"LK Heinsberg\"][\"AnzahlFall\"],'-', color=\"grey\", alpha=0.5)\n",
    "plt.title(\"Subplot 4 - LK Heinsberg\")\n",
    "\n",
    "plt.show()"
   ]
  },
  {
   "cell_type": "markdown",
   "metadata": {},
   "source": [
    "## Create a Correlation / Scatterplot matrix \n",
    "\n",
    "\"A scatter plot matrix is a grid (or matrix) of scatter plots used to visualize bivariate relationships between combinations of variables. Each scatter plot in the matrix visualizes the relationship between a pair of variables, allowing many relationships to be explored in one chart.\"\n",
    "(https://pro.arcgis.com/en/pro-app/latest/help/analysis/geoprocessing/charts/scatter-plot-matrix.htm)"
   ]
  },
  {
   "cell_type": "code",
   "execution_count": null,
   "metadata": {},
   "outputs": [],
   "source": [
    "# for simplicity we just look at a smaller df with just one level of column indices\n",
    "df_temp=df_bub[df_bub[\"Param\"]==\"Test1\"]\n",
    "df_temp=df_temp.loc[:,pd.IndexSlice[[\"cam0\"], :]]"
   ]
  },
  {
   "cell_type": "code",
   "execution_count": null,
   "metadata": {},
   "outputs": [],
   "source": [
    "df_temp.columns.values"
   ]
  },
  {
   "cell_type": "code",
   "execution_count": null,
   "metadata": {},
   "outputs": [],
   "source": [
    "df_temp=df_temp[[('cam0', 'Waddel Disk Diameter'),('cam0', 'equi Ellipse Minor'),('cam0', 'Max Feret Diameter'),\n",
    "               ('cam0', 'equi Ellipse Minor Axis (Feret)'),('cam0', 'equi Rect Short Side (Feret)')]]"
   ]
  },
  {
   "cell_type": "code",
   "execution_count": null,
   "metadata": {},
   "outputs": [],
   "source": [
    "pd.plotting.scatter_matrix(df_temp, figsize=(15, 15), marker='o',\n",
    "                        hist_kwds={'bins': 20}, s=1, alpha=.25)\n",
    "plt.show()"
   ]
  },
  {
   "cell_type": "markdown",
   "metadata": {
    "collapsed": true
   },
   "source": [
    "### Links to visualisation examples and more:\n",
    "\n",
    "* Finding the right diagram\n",
    "https://www.visual-literacy.org/periodic_table/periodic_table.html\n",
    "* Finding the right colormap for our visualisation\n",
    "http://colorbrewer2.org/#type=sequential&scheme=BuGn&n=3\n",
    "* More visualisation examples: \n",
    "https://d3js.org/\n",
    "https://docs.bokeh.org/en/latest/docs/gallery.html\n",
    "* Broad overview of vsrious tools available in python \n",
    "https://github.com/EthicalML/awesome-production-machine-learning\n",
    "* Need multiple y-axis?\n",
    "https://matplotlib.org/3.1.1/gallery/ticks_and_spines/multiple_yaxis_with_spines.html"
   ]
  },
  {
   "cell_type": "code",
   "execution_count": null,
   "metadata": {},
   "outputs": [],
   "source": []
  }
 ],
 "metadata": {
  "kernelspec": {
   "display_name": "Python 3",
   "language": "python",
   "name": "python3"
  },
  "language_info": {
   "codemirror_mode": {
    "name": "ipython",
    "version": 3
   },
   "file_extension": ".py",
   "mimetype": "text/x-python",
   "name": "python",
   "nbconvert_exporter": "python",
   "pygments_lexer": "ipython3",
   "version": "3.6.9"
  }
 },
 "nbformat": 4,
 "nbformat_minor": 2
}
